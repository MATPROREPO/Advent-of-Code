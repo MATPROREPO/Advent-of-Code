{
 "cells": [
  {
   "cell_type": "code",
   "execution_count": 1,
   "id": "d6e0160f-640c-4ad2-bbaf-1d215b7b8051",
   "metadata": {},
   "outputs": [],
   "source": [
    "import pandas as pd\n",
    "import numpy as np"
   ]
  },
  {
   "cell_type": "code",
   "execution_count": 2,
   "id": "1340e878-6cd1-491b-86e1-a988c03a9002",
   "metadata": {},
   "outputs": [],
   "source": [
    "#file import\n",
    "file_name = 'input.txt'\n",
    "file = open(file_name)\n",
    "data = file.read()\n",
    "file.close()\n",
    "data_list = data.split(\"\\n\")"
   ]
  },
  {
   "cell_type": "code",
   "execution_count": 65,
   "id": "519c420e-9a3c-4a39-b036-e19b92e65aae",
   "metadata": {},
   "outputs": [],
   "source": [
    "charOffset = -(ord('A') - 1)\n",
    "caseOffset = 26"
   ]
  },
  {
   "cell_type": "code",
   "execution_count": 66,
   "id": "12e55ad7-8076-4c66-9f73-94f0011947d8",
   "metadata": {},
   "outputs": [],
   "source": [
    "ls = []\n",
    "for i in range(len(data_list)):\n",
    "    comp_len = int(len(data_list[i]) * 0.5)\n",
    "    first_comp = \"\".join(set(data_list[i][0:comp_len]))\n",
    "    sec_comp = \"\".join(set(data_list[i][comp_len:]))\n",
    "    for j in range(len(first_comp)):\n",
    "        if first_comp[j:j+1] in sec_comp:\n",
    "            x = first_comp[j:j+1]\n",
    "            ls.append({'id':i,'item':x,'value':ord(x.upper()) + charOffset + x.isupper() * caseOffset})\n",
    "df = pd.DataFrame(ls)"
   ]
  },
  {
   "cell_type": "code",
   "execution_count": 70,
   "id": "2da99302-04af-4704-a6a1-3531b0ebaa6e",
   "metadata": {},
   "outputs": [
    {
     "data": {
      "text/plain": [
       "8202"
      ]
     },
     "execution_count": 70,
     "metadata": {},
     "output_type": "execute_result"
    }
   ],
   "source": [
    "df['value'].sum()"
   ]
  },
  {
   "cell_type": "code",
   "execution_count": 85,
   "id": "960fd9b4-915d-4460-81bf-fcd7119929ab",
   "metadata": {},
   "outputs": [],
   "source": [
    "ls = []\n",
    "for i in range(int(len(data_list) / 3)):\n",
    "    comp = \"\".join(set(data_list[i * 3]))\n",
    "    for j in range(len(comp)):\n",
    "        if (comp[j:j+1] in data_list[i * 3 + 1]) & (comp[j:j+1] in data_list[i * 3 + 2]):\n",
    "            x = comp[j:j+1]\n",
    "            ls.append({'id_group':i,'item':x,'value':ord(x.upper()) + charOffset + x.isupper() * caseOffset})\n",
    "df = pd.DataFrame(ls)"
   ]
  },
  {
   "cell_type": "code",
   "execution_count": 86,
   "id": "abc2f193-4319-4fb3-b539-0928eac12289",
   "metadata": {},
   "outputs": [
    {
     "data": {
      "text/plain": [
       "2864"
      ]
     },
     "execution_count": 86,
     "metadata": {},
     "output_type": "execute_result"
    }
   ],
   "source": [
    "df['value'].sum()"
   ]
  }
 ],
 "metadata": {
  "kernelspec": {
   "display_name": "Python 3 (ipykernel)",
   "language": "python",
   "name": "python3"
  },
  "language_info": {
   "codemirror_mode": {
    "name": "ipython",
    "version": 3
   },
   "file_extension": ".py",
   "mimetype": "text/x-python",
   "name": "python",
   "nbconvert_exporter": "python",
   "pygments_lexer": "ipython3",
   "version": "3.10.5"
  }
 },
 "nbformat": 4,
 "nbformat_minor": 5
}
