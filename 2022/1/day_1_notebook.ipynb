{
 "cells": [
  {
   "cell_type": "code",
   "execution_count": 1,
   "id": "5a0d54af-3dc4-45a2-a74a-b441c16c6bf7",
   "metadata": {},
   "outputs": [],
   "source": [
    "import pandas as pd\n",
    "import numpy as np"
   ]
  },
  {
   "cell_type": "code",
   "execution_count": 2,
   "id": "616f2530-8af9-4ff4-9961-e6f32b53ccf2",
   "metadata": {},
   "outputs": [],
   "source": [
    "#file import\n",
    "file_name = 'input.txt'\n",
    "file = open(file_name)\n",
    "data = file.read()\n",
    "file.close()"
   ]
  },
  {
   "cell_type": "code",
   "execution_count": 3,
   "id": "0c2b4b12-6aa2-4163-87f2-f83fbe7593d7",
   "metadata": {},
   "outputs": [],
   "source": [
    "#data into maleable datatype\n",
    "data_list = data.split(\"\\n\")"
   ]
  },
  {
   "cell_type": "code",
   "execution_count": 4,
   "id": "b4293b7a-6825-42f0-be49-03e43cea9471",
   "metadata": {},
   "outputs": [],
   "source": [
    "#assigning elf-ids for each consecutive listing of items\n",
    "id_list = []\n",
    "id_elf = 1\n",
    "for i in range(len(data_list)):\n",
    "    if data_list[i] == '': id_elf = id_elf + 1\n",
    "    id_list.append(id_elf)\n",
    "    i = i + 1"
   ]
  },
  {
   "cell_type": "code",
   "execution_count": 5,
   "id": "8df80dec-435d-4ccf-9444-6163f4e90a7c",
   "metadata": {},
   "outputs": [],
   "source": [
    "data_dict = {'Elf':id_list,'Calories':data_list}\n",
    "df = pd.DataFrame(data_dict)\n",
    "df = df.apply(pd.to_numeric)"
   ]
  },
  {
   "cell_type": "code",
   "execution_count": 6,
   "id": "63958be8-dfa4-41ec-a1f8-e73880706935",
   "metadata": {},
   "outputs": [
    {
     "data": {
      "text/plain": [
       "Calories    67658.0\n",
       "Name: 216, dtype: float64"
      ]
     },
     "execution_count": 6,
     "metadata": {},
     "output_type": "execute_result"
    }
   ],
   "source": [
    "df.groupby('Elf').sum().sort_values([\"Calories\"], ascending=False).iloc[0]"
   ]
  },
  {
   "cell_type": "code",
   "execution_count": 7,
   "id": "700cf345-5d23-45d1-9a41-e909dd3d2ec0",
   "metadata": {},
   "outputs": [
    {
     "data": {
      "text/plain": [
       "Calories    200158.0\n",
       "dtype: float64"
      ]
     },
     "execution_count": 7,
     "metadata": {},
     "output_type": "execute_result"
    }
   ],
   "source": [
    "df.groupby('Elf').sum().sort_values([\"Calories\"], ascending=False).iloc[0:3,:].sum()"
   ]
  },
  {
   "cell_type": "code",
   "execution_count": null,
   "id": "e53280be-c59c-4e8c-9466-2766a2c042d5",
   "metadata": {},
   "outputs": [],
   "source": []
  }
 ],
 "metadata": {
  "kernelspec": {
   "display_name": "Python 3 (ipykernel)",
   "language": "python",
   "name": "python3"
  },
  "language_info": {
   "codemirror_mode": {
    "name": "ipython",
    "version": 3
   },
   "file_extension": ".py",
   "mimetype": "text/x-python",
   "name": "python",
   "nbconvert_exporter": "python",
   "pygments_lexer": "ipython3",
   "version": "3.10.5"
  }
 },
 "nbformat": 4,
 "nbformat_minor": 5
}
