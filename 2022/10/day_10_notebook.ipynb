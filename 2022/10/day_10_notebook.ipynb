{
 "cells": [
  {
   "cell_type": "code",
   "execution_count": 1,
   "id": "bd5f8061-239f-48b6-b0c0-d12d7f304e41",
   "metadata": {},
   "outputs": [],
   "source": [
    "import numpy as np\n",
    "import pandas as pd"
   ]
  },
  {
   "cell_type": "code",
   "execution_count": 55,
   "id": "c0316ed4-69ca-4293-b50b-6c840c043279",
   "metadata": {},
   "outputs": [],
   "source": [
    "file_name = 'input.txt'\n",
    "file = open(file_name)\n",
    "data = file.read()\n",
    "file.close()\n",
    "data_list = data.split(\"\\n\")"
   ]
  },
  {
   "cell_type": "code",
   "execution_count": 43,
   "id": "526698fa-5e62-40b9-8d5a-131b9fac765b",
   "metadata": {},
   "outputs": [],
   "source": [
    "cycle_list = []\n",
    "cycle = 0\n",
    "x = 1\n",
    "for i in range(len(data_list)):\n",
    "    cmd = data_list[i][0:4]\n",
    "    if cmd == 'noop':\n",
    "        cycle = cycle + 1\n",
    "        cycle_list.append({'cycle':cycle,'cmd':cmd,'x':x,'signal_strength':cycle * x})\n",
    "    elif cmd == 'addx':\n",
    "        cycle = cycle + 1\n",
    "        cycle_list.append({'cycle':cycle,'cmd':cmd,'x':x,'signal_strength':cycle * x})\n",
    "        cycle = cycle + 1\n",
    "        cycle_list.append({'cycle':cycle,'cmd':cmd,'x':x,'signal_strength':cycle * x})\n",
    "        addx = int(data_list[i][5:])\n",
    "        x = x + addx\n",
    "    else:\n",
    "        cycle = cycle + 1\n",
    "        cycle_list.append({'cycle':cycle,'cmd':cmd,'x':x,'signal_strength':cycle * x})"
   ]
  },
  {
   "cell_type": "code",
   "execution_count": 44,
   "id": "c958c686-4228-446c-b9a2-038aefa4d6cc",
   "metadata": {},
   "outputs": [
    {
     "data": {
      "text/plain": [
       "13140"
      ]
     },
     "execution_count": 44,
     "metadata": {},
     "output_type": "execute_result"
    }
   ],
   "source": [
    "x = 0\n",
    "for i in range(6):\n",
    "    x = x + cycle_list[19 + 40 * i]['signal_strength']\n",
    "x"
   ]
  },
  {
   "cell_type": "code",
   "execution_count": 56,
   "id": "4a7aa1ac-b5d1-4821-8864-10ddc18fd21a",
   "metadata": {},
   "outputs": [],
   "source": [
    "cycle_list = []\n",
    "output = []\n",
    "ln = ''\n",
    "cycle = 0\n",
    "x = 1\n",
    "\n",
    "# read command\n",
    "# process command\n",
    "# increment cycle\n",
    "# determine pixel state\n",
    "\n",
    "#Really have two disparate cycles at play; the command cycle (i.e. each line in the input file) and the processor cycle (i.e. the cycle number)\n",
    "\n",
    "def write_line(cycle, sprite_pos, ln):\n",
    "    ln_pos = cycle % 40\n",
    "    if abs(ln_pos - 1 - sprite_pos) < 2:\n",
    "        x = '#'\n",
    "    else:\n",
    "        x = '.'\n",
    "    ln = ln + x\n",
    "    return ln\n",
    "\n",
    "\n",
    "for i in range(len(data_list)):\n",
    "    cmd = data_list[i][0:4]\n",
    "    if cmd == 'noop':\n",
    "        cycle = cycle + 1\n",
    "        if (cycle % 40 == 1) & (cycle > 1):\n",
    "            output.append(ln)\n",
    "            ln = ''\n",
    "        ln = write_line(cycle, x, ln)\n",
    "    elif cmd == 'addx':\n",
    "        cycle = cycle + 1\n",
    "        if (cycle % 40 == 1) & (cycle > 1):\n",
    "            output.append(ln)\n",
    "            ln = ''\n",
    "        ln = write_line(cycle, x, ln)\n",
    "        cycle = cycle + 1\n",
    "        if (cycle % 40 == 1) & (cycle > 1):\n",
    "            output.append(ln)\n",
    "            ln = ''\n",
    "        ln = write_line(cycle, x, ln)\n",
    "        addx = int(data_list[i][5:])\n",
    "        x = x + addx\n",
    "    else:\n",
    "        cycle = cycle + 1\n",
    "        if (cycle % 40 == 1) & (cycle > 1):\n",
    "            output.append(ln)\n",
    "            ln = ''\n",
    "        ln = write_line(cycle, x, ln)"
   ]
  },
  {
   "cell_type": "code",
   "execution_count": 57,
   "id": "1dbe2951-a899-4576-b7d9-29e81cea24d9",
   "metadata": {},
   "outputs": [
    {
     "data": {
      "text/plain": [
       "['####.####.###..####.#..#..##..#..#.###..',\n",
       " '...#.#....#..#.#....#..#.#..#.#..#.#..#.',\n",
       " '..#..###..###..###..####.#....#..#.#..#.',\n",
       " '.#...#....#..#.#....#..#.#.##.#..#.###.#',\n",
       " '#....#....#..#.#....#..#.#..#.#..#.#....']"
      ]
     },
     "execution_count": 57,
     "metadata": {},
     "output_type": "execute_result"
    }
   ],
   "source": [
    "output"
   ]
  },
  {
   "cell_type": "code",
   "execution_count": 50,
   "id": "3038fd40-8f3d-4330-a855-8d7901c5e3ae",
   "metadata": {},
   "outputs": [
    {
     "data": {
      "text/plain": [
       "40"
      ]
     },
     "execution_count": 50,
     "metadata": {},
     "output_type": "execute_result"
    }
   ],
   "source": [
    "len('######......######......######......###.')"
   ]
  },
  {
   "cell_type": "code",
   "execution_count": 41,
   "id": "48680813-b576-4a98-9632-015d9d005b7a",
   "metadata": {},
   "outputs": [
    {
     "data": {
      "text/plain": [
       "81"
      ]
     },
     "execution_count": 41,
     "metadata": {},
     "output_type": "execute_result"
    }
   ],
   "source": [
    "x"
   ]
  },
  {
   "cell_type": "code",
   "execution_count": null,
   "id": "577a30b6-14e7-48ef-8d5e-0f4f51b99cbf",
   "metadata": {},
   "outputs": [],
   "source": []
  }
 ],
 "metadata": {
  "kernelspec": {
   "display_name": "Python 3 (ipykernel)",
   "language": "python",
   "name": "python3"
  },
  "language_info": {
   "codemirror_mode": {
    "name": "ipython",
    "version": 3
   },
   "file_extension": ".py",
   "mimetype": "text/x-python",
   "name": "python",
   "nbconvert_exporter": "python",
   "pygments_lexer": "ipython3",
   "version": "3.10.5"
  }
 },
 "nbformat": 4,
 "nbformat_minor": 5
}
