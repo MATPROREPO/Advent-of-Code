{
 "cells": [
  {
   "cell_type": "code",
   "execution_count": 1,
   "id": "e609b49d-d1a8-4cd9-b9ef-7daf44268383",
   "metadata": {},
   "outputs": [],
   "source": [
    "import pandas as pd\n",
    "import numpy as np"
   ]
  },
  {
   "cell_type": "code",
   "execution_count": 4,
   "id": "c89a6a87-9816-4d9f-8672-6d9ad50784d2",
   "metadata": {},
   "outputs": [],
   "source": [
    "file_name = 'input.txt'\n",
    "file = open(file_name)\n",
    "data = file.read()\n",
    "file.close()\n",
    "data_list = data.split(\"\\n\")"
   ]
  },
  {
   "cell_type": "code",
   "execution_count": 6,
   "id": "ad115e59-1a31-4f7f-bb7f-b22afb0ccbc2",
   "metadata": {},
   "outputs": [
    {
     "data": {
      "text/plain": [
       "11"
      ]
     },
     "execution_count": 6,
     "metadata": {},
     "output_type": "execute_result"
    }
   ],
   "source": [
    "len('  Operation')"
   ]
  },
  {
   "cell_type": "code",
   "execution_count": 45,
   "id": "90146306-8824-4f76-8d75-d922de25f181",
   "metadata": {},
   "outputs": [],
   "source": [
    "#it's parsin' time\n",
    "instr_dict = []\n",
    "i = -1\n",
    "while i + 1 < len(data_list):\n",
    "    i = i + 1\n",
    "    if data_list[i][0:6] == 'Monkey':\n",
    "        mky = int(data_list[i][7])\n",
    "    elif data_list[i][0:6] == '  Oper':\n",
    "        fx = data_list[i][13:]\n",
    "    elif data_list[i][0:6] == '  Test':\n",
    "        tx = data_list[i][8:]\n",
    "    elif data_list[i][0:11] == '    If true':\n",
    "        tt = int(data_list[i].rsplit(' ',1)[1])\n",
    "    elif data_list[i][0:11] == '    If fals':\n",
    "        tf = int(data_list[i].rsplit(' ',1)[1])\n",
    "    elif data_list[i] == '':\n",
    "        dct = {'monkey':mky,'oper':fx,'test':tx,'true':tt,'false':tf}\n",
    "        instr_dict.append(dct)\n"
   ]
  },
  {
   "cell_type": "code",
   "execution_count": 46,
   "id": "cde66981-d288-4f03-863e-7e22d68daabe",
   "metadata": {},
   "outputs": [
    {
     "data": {
      "text/plain": [
       "[{'monkey': 0,\n",
       "  'oper': 'new = old * 11',\n",
       "  'test': 'divisible by 13',\n",
       "  'true': 1,\n",
       "  'false': 7},\n",
       " {'monkey': 1,\n",
       "  'oper': 'new = old + 1',\n",
       "  'test': 'divisible by 7',\n",
       "  'true': 3,\n",
       "  'false': 6},\n",
       " {'monkey': 2,\n",
       "  'oper': 'new = old * old',\n",
       "  'test': 'divisible by 3',\n",
       "  'true': 5,\n",
       "  'false': 4},\n",
       " {'monkey': 3,\n",
       "  'oper': 'new = old + 2',\n",
       "  'test': 'divisible by 19',\n",
       "  'true': 2,\n",
       "  'false': 6},\n",
       " {'monkey': 4,\n",
       "  'oper': 'new = old + 6',\n",
       "  'test': 'divisible by 5',\n",
       "  'true': 0,\n",
       "  'false': 5},\n",
       " {'monkey': 5,\n",
       "  'oper': 'new = old + 7',\n",
       "  'test': 'divisible by 2',\n",
       "  'true': 7,\n",
       "  'false': 0},\n",
       " {'monkey': 6,\n",
       "  'oper': 'new = old * 7',\n",
       "  'test': 'divisible by 11',\n",
       "  'true': 2,\n",
       "  'false': 4}]"
      ]
     },
     "execution_count": 46,
     "metadata": {},
     "output_type": "execute_result"
    }
   ],
   "source": [
    "instr_dict"
   ]
  },
  {
   "cell_type": "code",
   "execution_count": 44,
   "id": "7d8ec449-de9c-43e1-80f7-426ee7bdbb60",
   "metadata": {},
   "outputs": [
    {
     "data": {
      "text/plain": [
       "'7'"
      ]
     },
     "execution_count": 44,
     "metadata": {},
     "output_type": "execute_result"
    }
   ],
   "source": [
    "data_list[5].rsplit(' ',1)[1]"
   ]
  },
  {
   "cell_type": "code",
   "execution_count": null,
   "id": "eb316262-8bf2-4ff3-9eda-bd76278b8f50",
   "metadata": {},
   "outputs": [],
   "source": []
  }
 ],
 "metadata": {
  "kernelspec": {
   "display_name": "Python 3 (ipykernel)",
   "language": "python",
   "name": "python3"
  },
  "language_info": {
   "codemirror_mode": {
    "name": "ipython",
    "version": 3
   },
   "file_extension": ".py",
   "mimetype": "text/x-python",
   "name": "python",
   "nbconvert_exporter": "python",
   "pygments_lexer": "ipython3",
   "version": "3.10.5"
  }
 },
 "nbformat": 4,
 "nbformat_minor": 5
}
