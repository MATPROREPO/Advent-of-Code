{
 "cells": [
  {
   "cell_type": "code",
   "execution_count": 1,
   "id": "91a4801f-1d77-47d7-a904-f5cea486e843",
   "metadata": {},
   "outputs": [],
   "source": [
    "import pandas as pd\n",
    "import numpy as np"
   ]
  },
  {
   "cell_type": "code",
   "execution_count": 2,
   "id": "d3c8dde7-2045-4a60-aa2c-709d0bb275cc",
   "metadata": {},
   "outputs": [],
   "source": [
    "#file import\n",
    "file_name = 'input.txt'\n",
    "df = pd.read_csv(file_name,sep=\",\",header=None)\n",
    "df.columns = ['elf_1','elf_2']"
   ]
  },
  {
   "cell_type": "code",
   "execution_count": 3,
   "id": "52be8ef4-cfbf-4ea7-88ad-793ebeeeb462",
   "metadata": {},
   "outputs": [],
   "source": [
    "df[['elf_1_lb','elf_1_ub']] = df['elf_1'].str.split('-',expand=True).apply(pd.to_numeric)\n",
    "df[['elf_2_lb','elf_2_ub']] = df['elf_2'].str.split('-',expand=True).apply(pd.to_numeric)\n",
    "#df[['elf_1_lb','elf_1_ub','elf_2_lb','elf_2_ub']].apply.to_numeric"
   ]
  },
  {
   "cell_type": "code",
   "execution_count": 4,
   "id": "18a0f19a-bf90-483a-ba89-fc87558cdce7",
   "metadata": {},
   "outputs": [],
   "source": [
    "df['is_overlap'] = np.where((df['elf_1_lb'] <= df['elf_2_ub']) & (df['elf_1_ub'] >= df['elf_2_lb']),True,False)\n",
    "df['is_complete_overlap'] = np.where((df['elf_1_lb'] >= df['elf_2_lb']) & (df['elf_1_ub'] <= df['elf_2_ub']) | (df['elf_1_lb'] <= df['elf_2_lb']) & (df['elf_1_ub'] >= df['elf_2_ub']),True,False)"
   ]
  },
  {
   "cell_type": "code",
   "execution_count": 5,
   "id": "863cba35-d9d9-46d7-931c-84c8e496191a",
   "metadata": {},
   "outputs": [
    {
     "data": {
      "text/plain": [
       "441"
      ]
     },
     "execution_count": 5,
     "metadata": {},
     "output_type": "execute_result"
    }
   ],
   "source": [
    "len(df[(df['is_complete_overlap']==True)])"
   ]
  },
  {
   "cell_type": "code",
   "execution_count": 6,
   "id": "e915880a-5406-4f6a-8b23-814200b016be",
   "metadata": {},
   "outputs": [
    {
     "data": {
      "text/plain": [
       "861"
      ]
     },
     "execution_count": 6,
     "metadata": {},
     "output_type": "execute_result"
    }
   ],
   "source": [
    "len(df[(df['is_overlap']==True)])"
   ]
  },
  {
   "cell_type": "code",
   "execution_count": null,
   "id": "87639090-9abf-4a1e-aafa-0c20b6dcc041",
   "metadata": {},
   "outputs": [],
   "source": []
  }
 ],
 "metadata": {
  "kernelspec": {
   "display_name": "Python 3 (ipykernel)",
   "language": "python",
   "name": "python3"
  },
  "language_info": {
   "codemirror_mode": {
    "name": "ipython",
    "version": 3
   },
   "file_extension": ".py",
   "mimetype": "text/x-python",
   "name": "python",
   "nbconvert_exporter": "python",
   "pygments_lexer": "ipython3",
   "version": "3.10.5"
  }
 },
 "nbformat": 4,
 "nbformat_minor": 5
}
