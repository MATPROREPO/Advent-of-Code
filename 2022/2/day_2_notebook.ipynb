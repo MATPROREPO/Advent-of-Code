{
 "cells": [
  {
   "cell_type": "code",
   "execution_count": 30,
   "id": "644a2714-613b-4b58-aea3-5a33df2b082f",
   "metadata": {},
   "outputs": [],
   "source": [
    "import pandas as pd\n",
    "import numpy as np"
   ]
  },
  {
   "cell_type": "code",
   "execution_count": 194,
   "id": "d7d7ec53-9c5f-4ad2-bd10-6edc59125893",
   "metadata": {},
   "outputs": [],
   "source": [
    "#Initial params\n",
    "game_map = ['A','B','C']\n",
    "game_choice = ['X','Y','Z']\n",
    "conversion_df = pd.DataFrame({'map':game_map,'map_choice':game_choice})\n",
    "score_df = pd.DataFrame({'map':game_map,'choice_score':[1,2,3]})\n",
    "result_df = pd.DataFrame({'opponent':['A','A','A','B','B','B','C','C','C']\n",
    "                          ,'player':['A','B','C','A','B','C','A','B','C']\n",
    "                          ,'victory_score':[3,6,0,0,3,6,6,0,3]})"
   ]
  },
  {
   "cell_type": "code",
   "execution_count": 202,
   "id": "63901c45-bd59-4cee-90c6-f02b3aac66ec",
   "metadata": {},
   "outputs": [],
   "source": [
    "#file import\n",
    "file_name = 'input.txt'\n",
    "df = pd.read_csv(file_name,sep=\" \",header=None)\n",
    "df.columns = ['play','choice']"
   ]
  },
  {
   "cell_type": "code",
   "execution_count": 203,
   "id": "4a9e291a-3750-4066-9e37-6d14554c1bc4",
   "metadata": {},
   "outputs": [],
   "source": [
    "#Merge mapped choice\n",
    "df = df.merge(conversion_df,how='inner',left_on='choice',right_on='map_choice').drop(columns='map_choice')\n",
    "\n",
    "#Merge points for selection\n",
    "df = df.merge(score_df,how='inner',left_on='map',right_on='map')\n",
    "\n",
    "#merge victory points\n",
    "df = df.merge(result_df,how='inner',left_on=['play','map'],right_on=['opponent','player']).drop(columns=['opponent','player'])\n",
    "\n",
    "#sum points\n",
    "df['total_score'] = df['victory_score'] + df['choice_score']"
   ]
  },
  {
   "cell_type": "code",
   "execution_count": 204,
   "id": "3b48f7e6-cee3-4ceb-a362-cf2ae4df64e1",
   "metadata": {},
   "outputs": [
    {
     "data": {
      "text/plain": [
       "14827"
      ]
     },
     "execution_count": 204,
     "metadata": {},
     "output_type": "execute_result"
    }
   ],
   "source": [
    "df['total_score'].sum()"
   ]
  },
  {
   "cell_type": "code",
   "execution_count": 205,
   "id": "becfd001-0fa1-4cdd-ad4e-cfa686ee5f50",
   "metadata": {},
   "outputs": [],
   "source": [
    "#Now we know the victory points, construct mapping DF\n",
    "victory_choice = [0,3,6]\n",
    "conversion_second_df = pd.DataFrame({'victory_score':victory_choice,'map_choice':game_choice})"
   ]
  },
  {
   "cell_type": "code",
   "execution_count": 206,
   "id": "3dcb063e-b12f-4220-b8e2-5e50d4619f2b",
   "metadata": {},
   "outputs": [],
   "source": [
    "#Merge mapped victory scores\n",
    "df = df.merge(conversion_second_df,how='inner',left_on='choice',right_on='map_choice',suffixes=('','_second')).drop(columns='map_choice')\n",
    "\n",
    "#Now merge to player choice\n",
    "df = df.merge(result_df,how='inner',left_on=['play','victory_score_second'],right_on=['opponent','victory_score'],suffixes=('','_second')).drop(columns=['opponent','victory_score_second'])\n",
    "df = df.rename(columns={'player':'map_alternate'})"
   ]
  },
  {
   "cell_type": "code",
   "execution_count": 207,
   "id": "fd86d31e-0edb-4c4c-9f95-3c23361f5ca4",
   "metadata": {},
   "outputs": [],
   "source": [
    "#Merge points for selection\n",
    "df = df.merge(score_df,how='inner',left_on='map_alternate',right_on='map',suffixes=('','_second')).drop(columns=['map_second'])\n",
    "\n",
    "#merge victory points\n",
    "df = df.merge(result_df,how='inner',left_on=['play','map_alternate'],right_on=['opponent','player'],suffixes=('','_second')).drop(columns=['opponent','player'])\n",
    "\n",
    "#sum points\n",
    "df['total_score_second'] = df['victory_score_second'] + df['choice_score_second']"
   ]
  },
  {
   "cell_type": "code",
   "execution_count": 208,
   "id": "0ddbca45-58bc-425f-9b52-38458877697e",
   "metadata": {},
   "outputs": [
    {
     "data": {
      "text/plain": [
       "13889"
      ]
     },
     "execution_count": 208,
     "metadata": {},
     "output_type": "execute_result"
    }
   ],
   "source": [
    "df['total_score_second'].sum()"
   ]
  }
 ],
 "metadata": {
  "kernelspec": {
   "display_name": "Python 3 (ipykernel)",
   "language": "python",
   "name": "python3"
  },
  "language_info": {
   "codemirror_mode": {
    "name": "ipython",
    "version": 3
   },
   "file_extension": ".py",
   "mimetype": "text/x-python",
   "name": "python",
   "nbconvert_exporter": "python",
   "pygments_lexer": "ipython3",
   "version": "3.10.5"
  }
 },
 "nbformat": 4,
 "nbformat_minor": 5
}
