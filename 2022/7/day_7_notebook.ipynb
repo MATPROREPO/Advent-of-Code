{
 "cells": [
  {
   "cell_type": "code",
   "execution_count": 1,
   "id": "0e74c1a8-133e-4722-bd9b-f2612711da0c",
   "metadata": {},
   "outputs": [],
   "source": [
    "import pandas as pd\n",
    "import numpy as np"
   ]
  },
  {
   "cell_type": "code",
   "execution_count": 11,
   "id": "74828c95-a894-4e91-9716-1f67e6740e26",
   "metadata": {},
   "outputs": [],
   "source": [
    "file_name = 'input.txt'\n",
    "file = open(file_name)\n",
    "data = file.read()\n",
    "file.close()\n",
    "data_list = data.split(\"\\n\")"
   ]
  },
  {
   "cell_type": "code",
   "execution_count": 82,
   "id": "5f643ebe-9f95-4a7d-93fd-3f5042fbf203",
   "metadata": {},
   "outputs": [],
   "source": [
    "#parsing output for full filepath\n",
    "#Need to capture empty subdirectories, otherwise iterative directory size will not work for empty folders\n",
    "curPath = ''\n",
    "sysContents = []\n",
    "for i in range(len(data_list)):\n",
    "    if data_list[i][0:5] == '$ cd ':\n",
    "        if data_list[i][5:7] == '..':\n",
    "            curPath = curPath.rsplit('/',1)[0]\n",
    "        else:\n",
    "            curPath = curPath + '/' + data_list[i][5:]\n",
    "    elif (data_list[i][0:4] != '$ ls'):\n",
    "        if data_list[i][0:3] == 'dir':\n",
    "            sysContents.append({'filePath':curPath,'fileName':'','fileSize':0})\n",
    "        else:\n",
    "            sysContents.append({'filePath':curPath,'fileName':data_list[i].split(' ',1)[1],'fileSize':int(data_list[i].split(' ',1)[0])})"
   ]
  },
  {
   "cell_type": "code",
   "execution_count": 83,
   "id": "83ead836-4ead-4747-a98c-192d072f402e",
   "metadata": {},
   "outputs": [],
   "source": [
    "#There is probably some way to avoid having to go from dict -> dataframe -> list -> dict...  but I'm dumb\n",
    "dirSize = []\n",
    "df = pd.DataFrame(sysContents)\n",
    "dirList = df['filePath'].unique().tolist()\n",
    "for i in range(len(dirList)):\n",
    "    sz = 0\n",
    "    for j in range(len(sysContents)):\n",
    "        if sysContents[j]['filePath'][0:len(dirList[i])] == dirList[i]:\n",
    "            sz = sz + sysContents[j]['fileSize']\n",
    "    dirSize.append({'filePath':dirList[i],'fileSize':sz})"
   ]
  },
  {
   "cell_type": "code",
   "execution_count": 84,
   "id": "56dd2187-8332-4985-b355-02261440af6a",
   "metadata": {},
   "outputs": [],
   "source": [
    "dirSize_df = pd.DataFrame(dirSize)"
   ]
  },
  {
   "cell_type": "code",
   "execution_count": 85,
   "id": "d22fd460-67c4-466b-881d-1c5625e9684a",
   "metadata": {},
   "outputs": [
    {
     "data": {
      "text/plain": [
       "1432936"
      ]
     },
     "execution_count": 85,
     "metadata": {},
     "output_type": "execute_result"
    }
   ],
   "source": [
    "dirSize_df[dirSize_df['fileSize'] <= 100000]['fileSize'].sum()"
   ]
  },
  {
   "cell_type": "code",
   "execution_count": 112,
   "id": "cf609ab0-b3ac-4781-95dc-c17f9eed1397",
   "metadata": {},
   "outputs": [
    {
     "data": {
      "text/plain": [
       "272298"
      ]
     },
     "execution_count": 112,
     "metadata": {},
     "output_type": "execute_result"
    }
   ],
   "source": [
    "neededSpace = 30000000 - 70000000 + dirSize_df[dirSize_df['filePath'] == '//']['fileSize'][0]\n",
    "\n",
    "dirSize_df[dirSize_df['fileSize'] >= neededSpace].sort_values(by=['fileSize'])['fileSize'].iloc[0]"
   ]
  }
 ],
 "metadata": {
  "kernelspec": {
   "display_name": "Python 3 (ipykernel)",
   "language": "python",
   "name": "python3"
  },
  "language_info": {
   "codemirror_mode": {
    "name": "ipython",
    "version": 3
   },
   "file_extension": ".py",
   "mimetype": "text/x-python",
   "name": "python",
   "nbconvert_exporter": "python",
   "pygments_lexer": "ipython3",
   "version": "3.10.5"
  }
 },
 "nbformat": 4,
 "nbformat_minor": 5
}
