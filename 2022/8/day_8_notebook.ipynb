{
 "cells": [
  {
   "cell_type": "code",
   "execution_count": 1,
   "id": "53a56f32-251f-4051-b218-a0275b653c5f",
   "metadata": {},
   "outputs": [],
   "source": [
    "file_name = 'input.txt'\n",
    "file = open(file_name)\n",
    "data = file.read()\n",
    "file.close()\n",
    "data_list = data.split(\"\\n\")"
   ]
  },
  {
   "cell_type": "code",
   "execution_count": 45,
   "id": "f8ac27a9-14c9-4851-9c40-32a0fcc1c904",
   "metadata": {},
   "outputs": [
    {
     "data": {
      "text/plain": [
       "1546"
      ]
     },
     "execution_count": 45,
     "metadata": {},
     "output_type": "execute_result"
    }
   ],
   "source": [
    "#Brute force inefficient approach: for each tree, scan outwards until something greater is found; if nothing then tree is visible\n",
    "totCt = 0\n",
    "vis_list = []\n",
    "horzLen = len(data_list[0])\n",
    "vertLen = len(data_list)\n",
    "for i in range(vertLen): #vert\n",
    "    curRow = ''\n",
    "    for j in range(horzLen): #horz\n",
    "        isVis = 4\n",
    "        for x in range(4):\n",
    "            horzStep = 0\n",
    "            vertStep = 0\n",
    "            if x == 0: #scan downwards\n",
    "                vertStep = 1\n",
    "            elif x == 1: #scan upwards\n",
    "                vertStep = -1\n",
    "            elif x == 2: #scan rightwards\n",
    "                horzStep = 1\n",
    "            elif x == 3: #scan leftwards\n",
    "                horzStep = -1\n",
    "            k = 0\n",
    "            cont = True\n",
    "            while cont == True:\n",
    "                k = k + 1\n",
    "                if (i + k * vertStep < 0) | (i + k * vertStep > vertLen - 1) | (j + k * horzStep < 0) | (j + k * horzStep > horzLen - 1):\n",
    "                    cont = False\n",
    "                elif int(data_list[i + k * vertStep][j + k * horzStep]) >= int(data_list[i][j]):\n",
    "                    cont = False\n",
    "                    isVis = isVis - 1 #not visible from this direction\n",
    "        curRow = curRow + str(isVis)\n",
    "        if isVis > 0:\n",
    "            totCt = totCt + 1\n",
    "    vis_list.append(curRow)"
   ]
  },
  {
   "cell_type": "code",
   "execution_count": 58,
   "id": "e9c3c623-e33f-4593-8a12-8782181849de",
   "metadata": {},
   "outputs": [
    {
     "data": {
      "text/plain": [
       "1546"
      ]
     },
     "execution_count": 58,
     "metadata": {},
     "output_type": "execute_result"
    }
   ],
   "source": [
    "totCt"
   ]
  },
  {
   "cell_type": "code",
   "execution_count": 59,
   "id": "0bacca99-fcc7-4837-82ca-4dec8772f60b",
   "metadata": {},
   "outputs": [],
   "source": [
    "#Brute force inefficient approach: for each tree, scan outwards until something greater is found; if nothing then tree is visible\n",
    "totCt = 0\n",
    "vis_list = []\n",
    "horzLen = len(data_list[0])\n",
    "vertLen = len(data_list)\n",
    "maxVisScore = 0\n",
    "for i in range(vertLen): #vert\n",
    "    curRow = ''\n",
    "    for j in range(horzLen): #horz\n",
    "        isVis = 4\n",
    "        visScore = 1\n",
    "        for x in range(4):\n",
    "            horzStep = 0\n",
    "            vertStep = 0\n",
    "            if x == 0: #scan downwards\n",
    "                vertStep = 1\n",
    "            elif x == 1: #scan upwards\n",
    "                vertStep = -1\n",
    "            elif x == 2: #scan rightwards\n",
    "                horzStep = 1\n",
    "            elif x == 3: #scan leftwards\n",
    "                horzStep = -1\n",
    "            k = 0\n",
    "            cont = True\n",
    "            numVis = 0\n",
    "            while cont == True:\n",
    "                k = k + 1\n",
    "                if (i + k * vertStep < 0) | (i + k * vertStep > vertLen - 1) | (j + k * horzStep < 0) | (j + k * horzStep > horzLen - 1):\n",
    "                    cont = False\n",
    "                elif int(data_list[i + k * vertStep][j + k * horzStep]) >= int(data_list[i][j]):\n",
    "                    cont = False\n",
    "                    numVis = numVis + 1\n",
    "                    isVis = isVis - 1 #not visible from this direction\n",
    "                else:\n",
    "                    numVis = numVis + 1\n",
    "            visScore = visScore * numVis\n",
    "        curRow = curRow + str(isVis)\n",
    "        if visScore > maxVisScore:\n",
    "            maxVisScore = visScore\n",
    "        if isVis > 0:\n",
    "            totCt = totCt + 1\n",
    "    vis_list.append(curRow)\n"
   ]
  },
  {
   "cell_type": "code",
   "execution_count": 60,
   "id": "039051ed-ee5b-48d8-afc4-4bdf7866faa7",
   "metadata": {},
   "outputs": [
    {
     "data": {
      "text/plain": [
       "519064"
      ]
     },
     "execution_count": 60,
     "metadata": {},
     "output_type": "execute_result"
    }
   ],
   "source": [
    "maxVisScore"
   ]
  }
 ],
 "metadata": {
  "kernelspec": {
   "display_name": "Python 3 (ipykernel)",
   "language": "python",
   "name": "python3"
  },
  "language_info": {
   "codemirror_mode": {
    "name": "ipython",
    "version": 3
   },
   "file_extension": ".py",
   "mimetype": "text/x-python",
   "name": "python",
   "nbconvert_exporter": "python",
   "pygments_lexer": "ipython3",
   "version": "3.10.5"
  }
 },
 "nbformat": 4,
 "nbformat_minor": 5
}
