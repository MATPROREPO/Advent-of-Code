{
 "cells": [
  {
   "cell_type": "code",
   "execution_count": 1,
   "id": "8fd6b149-a1ba-4d6c-b043-7fb4090f8a8f",
   "metadata": {},
   "outputs": [],
   "source": [
    "import pandas as pd\n",
    "import numpy as np"
   ]
  },
  {
   "cell_type": "code",
   "execution_count": 18,
   "id": "9ae48941-96e6-409e-b569-835b211822a3",
   "metadata": {},
   "outputs": [],
   "source": [
    "file_name = 'input.txt'\n",
    "file = open(file_name)\n",
    "data = file.read()\n",
    "file.close()"
   ]
  },
  {
   "cell_type": "code",
   "execution_count": 19,
   "id": "c219e3d3-916c-4081-9cea-e61292c7f31a",
   "metadata": {},
   "outputs": [],
   "source": [
    "numMark = 4"
   ]
  },
  {
   "cell_type": "code",
   "execution_count": 22,
   "id": "eacc9888-2904-4c46-82cb-bdf1ab961c2e",
   "metadata": {},
   "outputs": [
    {
     "name": "stdout",
     "output_type": "stream",
     "text": [
      "1920\n"
     ]
    }
   ],
   "source": [
    "for i in range(len(data)):\n",
    "    if i > numMark - 2:\n",
    "        if len(\"\".join(set(data[i - numMark + 1:i + 1]))) == numMark:\n",
    "            mark = i + 1\n",
    "            break\n",
    "print(mark)"
   ]
  },
  {
   "cell_type": "code",
   "execution_count": 25,
   "id": "188cad6c-ba4d-45f0-af37-946307bb52b8",
   "metadata": {},
   "outputs": [],
   "source": [
    "numMessage = 14"
   ]
  },
  {
   "cell_type": "code",
   "execution_count": 38,
   "id": "3986ac9b-f489-43a2-b8ce-0288d7a7c552",
   "metadata": {},
   "outputs": [
    {
     "name": "stdout",
     "output_type": "stream",
     "text": [
      "2334\n"
     ]
    }
   ],
   "source": [
    "message = 0\n",
    "for i in range(len(data[mark - numMark - 1:])):\n",
    "    x = i + mark - 1\n",
    "    if x > numMessage - 2:\n",
    "        if len(\"\".join(set(data[x - numMessage + 1:x + 1]))) == numMessage:\n",
    "            message = x + 1\n",
    "            break\n",
    "print(message)"
   ]
  }
 ],
 "metadata": {
  "kernelspec": {
   "display_name": "Python 3 (ipykernel)",
   "language": "python",
   "name": "python3"
  },
  "language_info": {
   "codemirror_mode": {
    "name": "ipython",
    "version": 3
   },
   "file_extension": ".py",
   "mimetype": "text/x-python",
   "name": "python",
   "nbconvert_exporter": "python",
   "pygments_lexer": "ipython3",
   "version": "3.10.5"
  }
 },
 "nbformat": 4,
 "nbformat_minor": 5
}
