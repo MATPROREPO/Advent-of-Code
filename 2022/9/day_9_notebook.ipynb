{
 "cells": [
  {
   "cell_type": "code",
   "execution_count": 176,
   "id": "12de9d69-8bb6-4269-8786-bb5768a8afb0",
   "metadata": {},
   "outputs": [],
   "source": [
    "import pandas as pd\n",
    "import numpy as np\n",
    "import math"
   ]
  },
  {
   "cell_type": "code",
   "execution_count": 19,
   "id": "3ae8f083-2ddb-4e1a-a148-bc9cb228b3f1",
   "metadata": {},
   "outputs": [],
   "source": [
    "#file import\n",
    "file_name = 'input.txt'\n",
    "file = open(file_name)\n",
    "data = file.read()\n",
    "file.close()\n",
    "data_list = data.split(\"\\n\")\n",
    "data_list = list(map(lambda x:x.split(' '), data_list))"
   ]
  },
  {
   "cell_type": "code",
   "execution_count": 167,
   "id": "0a1e2e0b-a3e9-417e-83b6-a581175fe6ad",
   "metadata": {},
   "outputs": [],
   "source": [
    "step_list = []\n",
    "step_list.append({'head_pos':[0,0],'tail_pos':[0,0]})\n",
    "head_x = step_list[0]['head_pos'][0]\n",
    "head_y = step_list[0]['head_pos'][1]\n",
    "tail_x = step_list[0]['tail_pos'][0]\n",
    "tail_y = step_list[0]['tail_pos'][1]\n",
    "for i in range(len(data_list)):\n",
    "    x = 0\n",
    "    y = 0\n",
    "    if data_list[i][0] == 'D':\n",
    "        y = -1\n",
    "    elif data_list[i][0] == 'U':\n",
    "        y = 1\n",
    "    elif data_list[i][0] == 'L':\n",
    "        x = -1\n",
    "    elif data_list[i][0] == 'R':\n",
    "        x = 1\n",
    "    for j in range(int(data_list[i][1])):\n",
    "        head_x =  head_x + x\n",
    "        head_y =  head_y + y\n",
    "        head_pos = [head_x,head_y]\n",
    "        if abs(head_x - tail_x) > 1:\n",
    "            tail_x = int(tail_x + 0.5 * (head_x - tail_x))\n",
    "            tail_y = head_y\n",
    "        elif abs(head_y - tail_y) > 1:\n",
    "            tail_y = int(tail_y + 0.5 * (head_y - tail_y))\n",
    "            tail_x = head_x\n",
    "        tail_pos = [tail_x,tail_y]\n",
    "        step_list.append({'head_pos':head_pos,'tail_pos':tail_pos})"
   ]
  },
  {
   "cell_type": "code",
   "execution_count": 158,
   "id": "55cb1d42-eae1-4496-953a-c44137ece5e5",
   "metadata": {},
   "outputs": [
    {
     "data": {
      "text/plain": [
       "5695"
      ]
     },
     "execution_count": 158,
     "metadata": {},
     "output_type": "execute_result"
    }
   ],
   "source": [
    "len(set(tuple(dic['tail_pos']) for dic in step_list))"
   ]
  },
  {
   "cell_type": "code",
   "execution_count": 169,
   "id": "67dd377f-45ec-4c28-aac5-7570517fb1da",
   "metadata": {},
   "outputs": [
    {
     "data": {
      "text/plain": [
       "[{'head_pos': [19, 69], 'tail_pos': [20, 69]},\n",
       " {'head_pos': [18, 69], 'tail_pos': [19, 69]},\n",
       " {'head_pos': [18, 68], 'tail_pos': [19, 69]},\n",
       " {'head_pos': [18, 67], 'tail_pos': [18, 68]},\n",
       " {'head_pos': [18, 66], 'tail_pos': [18, 67]},\n",
       " {'head_pos': [18, 65], 'tail_pos': [18, 66]},\n",
       " {'head_pos': [18, 64], 'tail_pos': [18, 65]},\n",
       " {'head_pos': [18, 63], 'tail_pos': [18, 64]},\n",
       " {'head_pos': [17, 63], 'tail_pos': [18, 64]},\n",
       " {'head_pos': [17, 64], 'tail_pos': [18, 64]}]"
      ]
     },
     "execution_count": 169,
     "metadata": {},
     "output_type": "execute_result"
    }
   ],
   "source": [
    "step_list[1000:1010]"
   ]
  },
  {
   "cell_type": "code",
   "execution_count": 179,
   "id": "77a67d5c-6998-4e79-9da6-39b67fc67042",
   "metadata": {},
   "outputs": [],
   "source": [
    "#Generalized to n knots, storing just position of head and tail\n",
    "step_list = []\n",
    "dct = {}\n",
    "positions = 10\n",
    "for i in range(positions):\n",
    "    dct_nm = i\n",
    "    dct[dct_nm] = [0,0]\n",
    "step_list.append(dct)\n",
    "\n",
    "for i in range(len(data_list)):\n",
    "    x = 0\n",
    "    y = 0\n",
    "    if data_list[i][0] == 'D':\n",
    "        y = -1\n",
    "    elif data_list[i][0] == 'U':\n",
    "        y = 1\n",
    "    elif data_list[i][0] == 'L':\n",
    "        x = -1\n",
    "    elif data_list[i][0] == 'R':\n",
    "        x = 1\n",
    "    for j in range(int(data_list[i][1])):\n",
    "        mov = len(step_list) - 1\n",
    "        dct = {}\n",
    "        for key in step_list[mov]:\n",
    "            if key == 0:\n",
    "                dct[key] = [step_list[mov][key][0] + x, step_list[mov][key][1] + y]\n",
    "            elif (abs(step_list[mov][key][0] - dct[key - 1][0]) > 1) | (abs(step_list[mov][key][1] - dct[key - 1][1]) > 1):\n",
    "                dct[key] = [int(step_list[mov][key][0] + np.sign(dct[key - 1][0] - step_list[mov][key][0])),int(step_list[mov][key][1] + np.sign(dct[key - 1][1] - step_list[mov][key][1]))]\n",
    "                #if abs(step_list[mov][key][0] - dct[key - 1][0]) > 1:\n",
    "                #    dct[key] = [int(step_list[mov][key][0] + 0.5 * (dct[key - 1][0] - step_list[mov][key][0])), dct[key - 1][1]]\n",
    "                #elif abs(step_list[mov][key][1] - dct[key - 1][1]) > 1:\n",
    "                #    dct[key] = [dct[key - 1][0], int(step_list[mov][key][1] + 0.5 * (dct[key - 1][1] - step_list[mov][key][1]))]\n",
    "            else: \n",
    "                dct[key] = [step_list[mov][key][0], step_list[mov][key][1]]\n",
    "        step_list.append(dct)\n",
    "            "
   ]
  },
  {
   "cell_type": "code",
   "execution_count": 183,
   "id": "324fa0f4-f837-48f5-afbe-c4c48decdc0b",
   "metadata": {},
   "outputs": [
    {
     "data": {
      "text/plain": [
       "2434"
      ]
     },
     "execution_count": 183,
     "metadata": {},
     "output_type": "execute_result"
    }
   ],
   "source": [
    "len(set(tuple(dic[9]) for dic in step_list))"
   ]
  }
 ],
 "metadata": {
  "kernelspec": {
   "display_name": "Python 3 (ipykernel)",
   "language": "python",
   "name": "python3"
  },
  "language_info": {
   "codemirror_mode": {
    "name": "ipython",
    "version": 3
   },
   "file_extension": ".py",
   "mimetype": "text/x-python",
   "name": "python",
   "nbconvert_exporter": "python",
   "pygments_lexer": "ipython3",
   "version": "3.10.5"
  }
 },
 "nbformat": 4,
 "nbformat_minor": 5
}
