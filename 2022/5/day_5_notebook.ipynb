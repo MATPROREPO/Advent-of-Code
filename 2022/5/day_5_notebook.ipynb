{
 "cells": [
  {
   "cell_type": "code",
   "execution_count": 214,
   "id": "f6edab84-aaa1-4088-8ce2-fb51a4f0e14f",
   "metadata": {},
   "outputs": [],
   "source": [
    "import pandas as pd\n",
    "import numpy as np\n",
    "import math"
   ]
  },
  {
   "cell_type": "code",
   "execution_count": 397,
   "id": "fd55e9f5-cd4a-452b-9c3c-4ea0e86c5910",
   "metadata": {},
   "outputs": [],
   "source": [
    "#file import\n",
    "file_name = 'input.txt'\n",
    "file = open(file_name)\n",
    "data = file.read()\n",
    "file.close()\n",
    "data_list = data.split(\"\\n\")"
   ]
  },
  {
   "cell_type": "code",
   "execution_count": 398,
   "id": "f933a10d-fb96-4061-96e8-c5c06a56de88",
   "metadata": {},
   "outputs": [],
   "source": [
    "width = 9\n",
    "height_list = [-1] * 9"
   ]
  },
  {
   "cell_type": "code",
   "execution_count": 399,
   "id": "b22beb84-51e8-44a1-b8e3-1ed337fdbe85",
   "metadata": {},
   "outputs": [],
   "source": [
    "i = 0\n",
    "while data_list[i] != '':\n",
    "    i = i + 1\n",
    "\n",
    "arrange_input = data_list[:i-1]\n",
    "instruction_input = data_list[i+1:]\n",
    "instruction_dict = []"
   ]
  },
  {
   "cell_type": "code",
   "execution_count": 400,
   "id": "a72b7988-4870-463b-8f9c-66b40fb3d252",
   "metadata": {},
   "outputs": [],
   "source": [
    "#format work\n",
    "for i in range(len(arrange_input)):\n",
    "    arrange_input[i] = arrange_input[i].replace('[','')\n",
    "    arrange_input[i] = arrange_input[i].replace(']','')\n",
    "    arrange_input[i] = arrange_input[i].replace('    ','*')\n",
    "    arrange_input[i] = arrange_input[i].replace(' ','')\n",
    "    for j in range(len(height_list)):\n",
    "        if (arrange_input[i][j] != '*'):\n",
    "            height_list[j] = height_list[j] + 1\n",
    "\n",
    "for i in range(sum(height_list) - max(height_list) + width * 2 + 2):\n",
    "    arrange_input.insert(0,'*' * width)\n",
    "    \n",
    "arrange_input.reverse()\n",
    "\n",
    "for i in range(len(instruction_input)):\n",
    "    instruction_input[i] = instruction_input[i].replace('move ','')\n",
    "    instruction_input[i] = instruction_input[i].replace(' from ',',')\n",
    "    instruction_input[i] = instruction_input[i].replace(' to ',',')\n",
    "    instruction_dict.append({'num':int(instruction_input[i].split(',')[0]),'src':int(instruction_input[i].split(',')[1]),'dst':int(instruction_input[i].split(',')[2])})"
   ]
  },
  {
   "cell_type": "code",
   "execution_count": 401,
   "id": "ed71fb3f-d2ab-4edf-9b60-68246bc9eb6d",
   "metadata": {},
   "outputs": [],
   "source": [
    "#Solution 1\n",
    "boxes_moved = 1\n",
    "for i in range(len(instruction_dict)):\n",
    "    num = instruction_dict[i]['num']\n",
    "    src = instruction_dict[i]['src'] - 1\n",
    "    dst = instruction_dict[i]['dst'] - 1\n",
    "    for j in range(num):\n",
    "        box = arrange_input[height_list[src]][src]\n",
    "        arrange_input[height_list[src]] = arrange_input[height_list[src]][:src] + '*' + arrange_input[height_list[src]][src+1:]\n",
    "        arrange_input[height_list[dst]+1] = arrange_input[height_list[dst]+1][:dst] + box + arrange_input[height_list[dst]+1][dst+1:]\n",
    "        height_list[src] = height_list[src] - 1\n",
    "        height_list[dst] = height_list[dst] + 1"
   ]
  },
  {
   "cell_type": "code",
   "execution_count": 402,
   "id": "e91000f4-36fe-49f2-b78d-b458d9b8c21e",
   "metadata": {},
   "outputs": [
    {
     "data": {
      "text/plain": [
       "'CNSZFDVLJ'"
      ]
     },
     "execution_count": 402,
     "metadata": {},
     "output_type": "execute_result"
    }
   ],
   "source": [
    "x = []\n",
    "for i in range(len(height_list)):\n",
    "    x.append(arrange_input[height_list[i]][i])\n",
    "\"\".join(x)\n",
    "\n",
    "#CNSZFDVLJ"
   ]
  },
  {
   "cell_type": "code",
   "execution_count": 394,
   "id": "43b4ef56-596e-417e-b4c8-0767dc315cbc",
   "metadata": {},
   "outputs": [],
   "source": [
    "#Solution 2... generalized from the above; avoid running soln 1 above to get output below!\n",
    "boxes_moved = 100\n",
    "for i in range(len(instruction_dict)):\n",
    "    num = instruction_dict[i]['num']\n",
    "    src = instruction_dict[i]['src'] - 1\n",
    "    dst = instruction_dict[i]['dst'] - 1\n",
    "    for j in range(math.ceil(num/boxes_moved)):\n",
    "        for k in range(min(num,boxes_moved)):\n",
    "            box = arrange_input[height_list[src] - min(num,boxes_moved) + k + 1][src]\n",
    "            arrange_input[height_list[src] - min(num,boxes_moved) + k + 1] = arrange_input[height_list[src] - min(num,boxes_moved) + k + 1][:src] + '*' + arrange_input[height_list[src] -min(num,boxes_moved) + k + 1][src + 1:]\n",
    "            arrange_input[height_list[dst] + 1 + k] = arrange_input[height_list[dst] + 1 + k][:dst] + box + arrange_input[height_list[dst] + 1 + k][dst + 1:]\n",
    "        height_list[src] = height_list[src] - min(num,boxes_moved)\n",
    "        height_list[dst] = height_list[dst] + min(num,boxes_moved)"
   ]
  },
  {
   "cell_type": "code",
   "execution_count": 396,
   "id": "10843ac3-e221-4a16-8898-ff3798e2c3a9",
   "metadata": {},
   "outputs": [
    {
     "data": {
      "text/plain": [
       "'QNDWLMGNS'"
      ]
     },
     "execution_count": 396,
     "metadata": {},
     "output_type": "execute_result"
    }
   ],
   "source": [
    "x = []\n",
    "for i in range(len(height_list)):\n",
    "    x.append(arrange_input[height_list[i]][i])\n",
    "\"\".join(x)\n",
    "\n",
    "#CNSZFDVLJ"
   ]
  }
 ],
 "metadata": {
  "kernelspec": {
   "display_name": "Python 3 (ipykernel)",
   "language": "python",
   "name": "python3"
  },
  "language_info": {
   "codemirror_mode": {
    "name": "ipython",
    "version": 3
   },
   "file_extension": ".py",
   "mimetype": "text/x-python",
   "name": "python",
   "nbconvert_exporter": "python",
   "pygments_lexer": "ipython3",
   "version": "3.10.5"
  }
 },
 "nbformat": 4,
 "nbformat_minor": 5
}
