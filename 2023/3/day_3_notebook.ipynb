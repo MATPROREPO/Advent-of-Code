{
 "cells": [
  {
   "cell_type": "code",
   "execution_count": 1,
   "id": "70874423-b49c-48d9-90c3-5955c65cd0b7",
   "metadata": {},
   "outputs": [],
   "source": [
    "import pandas as pd\n",
    "import numpy as np"
   ]
  },
  {
   "cell_type": "code",
   "execution_count": 54,
   "id": "c8927303-1c1c-4a48-9f38-db624c203a59",
   "metadata": {},
   "outputs": [],
   "source": [
    "#file import\n",
    "file_name = 'input.txt'\n",
    "file = open(file_name)\n",
    "data = file.read()\n",
    "file.close()"
   ]
  },
  {
   "cell_type": "code",
   "execution_count": 55,
   "id": "55bc312b-5866-4a5d-99d1-5b74fdb2fcb5",
   "metadata": {},
   "outputs": [],
   "source": [
    "#data into maleable datatype\n",
    "data_list = data.split(\"\\n\")"
   ]
  },
  {
   "cell_type": "code",
   "execution_count": 56,
   "id": "07dc0952-b842-4b7a-a7ed-2a760f8c69cf",
   "metadata": {},
   "outputs": [],
   "source": [
    "part_list = []\n",
    "y_coord = 0\n",
    "x_coord = 0\n",
    "y_max = len(data_list)\n",
    "x_max = len(data_list[0])\n",
    "\n",
    "while y_coord < y_max:\n",
    "    x_coord = 0\n",
    "    while x_coord < x_max:\n",
    "        if data_list[y_coord][x_coord].isnumeric():\n",
    "            is_part_bool = 0\n",
    "            t_coord = x_coord\n",
    "            cont_bool = 1\n",
    "            while cont_bool == 1:\n",
    "                if t_coord == x_max:\n",
    "                    cont_bool = 0\n",
    "                elif not(data_list[y_coord][t_coord].isnumeric()):\n",
    "                    cont_bool = 0\n",
    "                else:\n",
    "                    t_coord = t_coord + 1\n",
    "            part_number = int(data_list[y_coord][x_coord:t_coord])\n",
    "            part_coordinates = [y_coord,x_coord]\n",
    "            #Confirming presence of special character marker above, below, and left/right\n",
    "            part_type = ''\n",
    "            if y_coord > 0: #Checking above\n",
    "                part_type = part_type + data_list[y_coord - 1][max(x_coord - 1,0):min(t_coord+1,x_max-1)].replace('.','')\n",
    "            if y_coord < y_max - 1: #checking below\n",
    "                part_type = part_type + data_list[y_coord + 1][max(x_coord - 1,0):min(t_coord+1,x_max-1)].replace('.','')\n",
    "            if x_coord > 0: #checking left\n",
    "                part_type = part_type + data_list[y_coord][x_coord - 1].replace('.','')\n",
    "            if t_coord < x_max - 1: #checking right\n",
    "                part_type = part_type + data_list[y_coord][t_coord].replace('.','')\n",
    "            if part_type != '':\n",
    "                is_part_bool = 1\n",
    "            part_list.append([part_number,part_coordinates,is_part_bool,part_type])\n",
    "            x_coord = t_coord\n",
    "        x_coord = x_coord + 1\n",
    "    y_coord = y_coord + 1        "
   ]
  },
  {
   "cell_type": "code",
   "execution_count": 57,
   "id": "a5929000-0e8c-45e7-8274-88473b0d28b8",
   "metadata": {},
   "outputs": [
    {
     "data": {
      "text/plain": [
       "536576"
      ]
     },
     "execution_count": 57,
     "metadata": {},
     "output_type": "execute_result"
    }
   ],
   "source": [
    "part_sum = 0\n",
    "for row in part_list:\n",
    "    part_sum = part_sum + row[0] * row[2]\n",
    "part_sum"
   ]
  },
  {
   "cell_type": "code",
   "execution_count": 59,
   "id": "eba03200-9e76-42ac-b5b0-bd1de40b6162",
   "metadata": {},
   "outputs": [
    {
     "data": {
      "text/plain": [
       "75741499"
      ]
     },
     "execution_count": 59,
     "metadata": {},
     "output_type": "execute_result"
    }
   ],
   "source": [
    "y_coord = 0\n",
    "x_coord = 0\n",
    "part_sum = 0\n",
    "\n",
    "while y_coord < y_max:\n",
    "    x_coord = 0\n",
    "    while x_coord < x_max:\n",
    "        if data_list[y_coord][x_coord] == '*':\n",
    "            #Check part list for anything around the coordinates\n",
    "            part_mult = 1\n",
    "            part_ct = 0\n",
    "            part_str = ''\n",
    "            for part in part_list:\n",
    "                if abs(part[1][0] - y_coord) < 2 and part[1][1] + len(str(part[0])) - 1 > x_coord - 2 and part[1][1] < x_coord + 2:\n",
    "                    part_ct = part_ct + 1\n",
    "                    part_mult = part_mult * part[0]\n",
    "                    part_str = part_str + '*' + str(part[0])\n",
    "            if part_ct > 1:\n",
    "                part_sum = part_sum + part_mult\n",
    "        x_coord = x_coord + 1\n",
    "    y_coord = y_coord + 1\n",
    "\n",
    "part_sum"
   ]
  }
 ],
 "metadata": {
  "kernelspec": {
   "display_name": "Python 3 (ipykernel)",
   "language": "python",
   "name": "python3"
  },
  "language_info": {
   "codemirror_mode": {
    "name": "ipython",
    "version": 3
   },
   "file_extension": ".py",
   "mimetype": "text/x-python",
   "name": "python",
   "nbconvert_exporter": "python",
   "pygments_lexer": "ipython3",
   "version": "3.10.5"
  }
 },
 "nbformat": 4,
 "nbformat_minor": 5
}
