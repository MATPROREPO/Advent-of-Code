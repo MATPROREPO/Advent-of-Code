{
 "cells": [
  {
   "cell_type": "code",
   "execution_count": 2,
   "id": "d7181aa0-19ef-4cc2-89cf-f20c885bf14b",
   "metadata": {},
   "outputs": [],
   "source": [
    "import pandas as pd\n",
    "import numpy as np\n",
    "import textwrap"
   ]
  },
  {
   "cell_type": "code",
   "execution_count": 3,
   "id": "5dd5e14d-0612-4cae-9bce-4a97be0e3f3d",
   "metadata": {},
   "outputs": [],
   "source": [
    "#file import\n",
    "file_name = 'input.txt'\n",
    "file = open(file_name)\n",
    "data = file.read()\n",
    "file.close()"
   ]
  },
  {
   "cell_type": "code",
   "execution_count": 4,
   "id": "34ec3175-f84a-458d-b9e4-d35fe5138a59",
   "metadata": {},
   "outputs": [],
   "source": [
    "#data into maleable datatype\n",
    "data_list = data.split(\"\\n\")"
   ]
  },
  {
   "cell_type": "code",
   "execution_count": 5,
   "id": "d0f3454c-8bf0-4a87-a867-b8c3798b00e2",
   "metadata": {},
   "outputs": [],
   "source": [
    "#helper vars\n",
    "num_win = 10\n",
    "num_draw = 25\n",
    "win_start = 10\n",
    "win_end = win_start + num_win * 3 - 1\n",
    "draw_start = win_end + 3\n",
    "draw_end = draw_start + num_draw * 3 - 1\n",
    "num_card = len(data_list)"
   ]
  },
  {
   "cell_type": "code",
   "execution_count": 6,
   "id": "1dcf91e5-721f-4249-b3ba-3df2dd463339",
   "metadata": {},
   "outputs": [],
   "source": [
    "#parsing file into two indepdendent lists\n",
    "win_list = []\n",
    "draw_list = []\n",
    "for row in data_list:\n",
    "    win_card = []\n",
    "    draw_card = []\n",
    "    for i in range(num_win):\n",
    "        win_card.append(int(row[win_start + 3 * i:win_start + 3 * i + 2]))\n",
    "    for i in range(num_draw):\n",
    "        draw_card.append(int(row[draw_start + 3 * i:draw_start + 3 * i + 2]))\n",
    "    win_list.append(win_card)\n",
    "    draw_list.append(draw_card)\n",
    "    "
   ]
  },
  {
   "cell_type": "code",
   "execution_count": 7,
   "id": "627ea1ea-51fb-4f5a-913e-91ae7378b1fd",
   "metadata": {},
   "outputs": [
    {
     "data": {
      "text/plain": [
       "21159"
      ]
     },
     "execution_count": 7,
     "metadata": {},
     "output_type": "execute_result"
    }
   ],
   "source": [
    "card_score = [1]\n",
    "for i in range(num_card):\n",
    "    ct = 0\n",
    "    for j in range(num_win):\n",
    "        if win_list[i][j] in draw_list[i]:\n",
    "            ct = ct + 1\n",
    "    if ct > 0:\n",
    "        card_pts = 2 ** (ct - 1)\n",
    "    else: \n",
    "        card_pts = 0\n",
    "    card_score.append(card_pts)\n",
    "sum(card_score)"
   ]
  },
  {
   "cell_type": "code",
   "execution_count": 8,
   "id": "294aa101-eecd-4bd9-ade9-ceb3640a6d2b",
   "metadata": {},
   "outputs": [
    {
     "data": {
      "text/plain": [
       "6050769"
      ]
     },
     "execution_count": 8,
     "metadata": {},
     "output_type": "execute_result"
    }
   ],
   "source": [
    "card_score = [1] * num_card\n",
    "for i in range(num_card):\n",
    "    ct = 0\n",
    "    for j in range(num_win):\n",
    "        if win_list[i][j] in draw_list[i]:\n",
    "            ct = ct + 1\n",
    "    for j in range(i + 1,min(i + 1 + ct,num_card)):\n",
    "        card_score[j] = card_score[j] + card_score[i]\n",
    "sum(card_score)"
   ]
  },
  {
   "cell_type": "code",
   "execution_count": null,
   "id": "a1cab2d9-0004-4493-b2fc-de54e6158816",
   "metadata": {},
   "outputs": [],
   "source": []
  }
 ],
 "metadata": {
  "kernelspec": {
   "display_name": "Python 3 (ipykernel)",
   "language": "python",
   "name": "python3"
  },
  "language_info": {
   "codemirror_mode": {
    "name": "ipython",
    "version": 3
   },
   "file_extension": ".py",
   "mimetype": "text/x-python",
   "name": "python",
   "nbconvert_exporter": "python",
   "pygments_lexer": "ipython3",
   "version": "3.10.5"
  }
 },
 "nbformat": 4,
 "nbformat_minor": 5
}
