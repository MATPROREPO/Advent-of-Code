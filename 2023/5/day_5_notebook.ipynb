{
 "cells": [
  {
   "cell_type": "code",
   "execution_count": 1,
   "id": "fb952305-d6d1-4225-8dea-faa31d2ae76a",
   "metadata": {},
   "outputs": [],
   "source": [
    "import pandas as pd\n",
    "import numpy as np"
   ]
  },
  {
   "cell_type": "code",
   "execution_count": 2,
   "id": "344fafe3-fdd1-4522-a733-643431eb63f1",
   "metadata": {},
   "outputs": [],
   "source": [
    "#file import\n",
    "file_name = 'input.txt'\n",
    "file = open(file_name)\n",
    "data = file.read()\n",
    "file.close()"
   ]
  },
  {
   "cell_type": "code",
   "execution_count": 103,
   "id": "6015c710-653d-4773-af0e-0c7a8340287e",
   "metadata": {},
   "outputs": [],
   "source": [
    "#parse input file\n",
    "data_list = data.split(\"\\n\")\n",
    "\n",
    "seeds = data_list[0].replace('seeds: ','').split(\" \")\n",
    "\n",
    "for i in range(len(seeds)):\n",
    "    seeds[i] = int(seeds[i])\n",
    "\n",
    "j = -1\n",
    "mapping_list = []\n",
    "for i in range(2,len(data_list)):\n",
    "    if data_list[i].find(':') > 0:\n",
    "        map_name = data_list[i].replace(' map:','')\n",
    "        k = 0\n",
    "        map_tuple = []\n",
    "        cont = 1\n",
    "        while cont == 1:\n",
    "            k = k + 1\n",
    "            if i + k < len(data_list):\n",
    "                if data_list[i + k] != '':\n",
    "                    map_tuple.append(data_list[i + k].split(\" \"))\n",
    "                else:\n",
    "                    cont = 0\n",
    "            else:\n",
    "                cont = 0\n",
    "        for j in range(len(map_tuple)):\n",
    "            for k in range(len(map_tuple[j])):\n",
    "                map_tuple[j][k] = int(map_tuple[j][k])\n",
    "        mapping_list.append([map_name,map_tuple])\n",
    "\n",
    "#mapping list ranges have format of [destination range start, source range start, length]"
   ]
  },
  {
   "cell_type": "code",
   "execution_count": 105,
   "id": "27474fc2-6cbf-4da9-97cc-9ff18860027a",
   "metadata": {},
   "outputs": [],
   "source": [
    "#mapping from seed to location\n",
    "array = []\n",
    "loc = []\n",
    "for seed in seeds:\n",
    "    path = []\n",
    "    x = seed\n",
    "    path.append(x)\n",
    "    for map in mapping_list:\n",
    "        mapped = 0\n",
    "        i = 0\n",
    "        while mapped == 0 and i < len(map[1]):\n",
    "            if x < map[1][i][1] + map[1][i][2] and x >= map[1][i][1]:\n",
    "                mapped = 1\n",
    "                x = map[1][i][0] + x - map[1][i][1]\n",
    "            else:\n",
    "                i = i + 1\n",
    "        path.append(x)\n",
    "    array.append(path)\n",
    "    loc.append(path[len(path)-1])"
   ]
  },
  {
   "cell_type": "code",
   "execution_count": 106,
   "id": "95f98f96-5a3e-474c-88d6-6da7526213c1",
   "metadata": {},
   "outputs": [
    {
     "data": {
      "text/plain": [
       "51580674"
      ]
     },
     "execution_count": 106,
     "metadata": {},
     "output_type": "execute_result"
    }
   ],
   "source": [
    "min(loc)"
   ]
  },
  {
   "cell_type": "code",
   "execution_count": 91,
   "id": "ca5802cd-bf64-411c-90cb-3f70cf4f9e14",
   "metadata": {},
   "outputs": [],
   "source": [
    "mapping_list[0][1] = [[50,98,2],[52,50,48]]\n",
    "mapping_list[1][1] = [[0,15,37],[37,52,2],[39,0,15]]\n",
    "mapping_list[2][1] = [[49,53,8],[0,11,42],[42,0,7]]\n",
    "mapping_list[3][1] = [[88,18,7],[18,25,70]]\n",
    "mapping_list[4][1] = [[45,77,23],[81,45,19],[68,64,13]]\n",
    "mapping_list[5][1] = [[0,69,1],[1,0,69]]\n",
    "mapping_list[6][1] = [[60,56,37],[56,93,4]]\n",
    "\n",
    "seeds = [79,14,55,13]"
   ]
  },
  {
   "cell_type": "code",
   "execution_count": null,
   "id": "b9a97fe0-75ee-44c7-87ba-dc753641e3f1",
   "metadata": {},
   "outputs": [],
   "source": [
    "#Stage two; absolutely disgusting\n",
    "#Might want to start in reverse order; i.e. target a low location number and determine if that seed is in our initial allocation\n",
    "#This might simply iterate through each location bucket, and then iteratively solve upwards; the cardinality makes this messy"
   ]
  }
 ],
 "metadata": {
  "kernelspec": {
   "display_name": "Python 3 (ipykernel)",
   "language": "python",
   "name": "python3"
  },
  "language_info": {
   "codemirror_mode": {
    "name": "ipython",
    "version": 3
   },
   "file_extension": ".py",
   "mimetype": "text/x-python",
   "name": "python",
   "nbconvert_exporter": "python",
   "pygments_lexer": "ipython3",
   "version": "3.10.5"
  }
 },
 "nbformat": 4,
 "nbformat_minor": 5
}
