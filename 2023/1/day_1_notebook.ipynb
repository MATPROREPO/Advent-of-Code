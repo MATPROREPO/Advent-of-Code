{
 "cells": [
  {
   "cell_type": "code",
   "execution_count": 1,
   "id": "1bc25643-91b9-42f8-970e-a30b9696f9dd",
   "metadata": {},
   "outputs": [],
   "source": [
    "import pandas as pd\n",
    "import numpy as np"
   ]
  },
  {
   "cell_type": "code",
   "execution_count": 2,
   "id": "16e5a714-12b2-43fb-9ca2-6136726ac201",
   "metadata": {},
   "outputs": [],
   "source": [
    "#file import\n",
    "file_name = 'input.txt'\n",
    "file = open(file_name)\n",
    "data = file.read()\n",
    "file.close()"
   ]
  },
  {
   "cell_type": "code",
   "execution_count": 51,
   "id": "32775ba3-284c-401f-8905-19ad83e9330c",
   "metadata": {},
   "outputs": [],
   "source": [
    "#data into maleable datatype\n",
    "data_list = data.split(\"\\n\")"
   ]
  },
  {
   "cell_type": "code",
   "execution_count": 14,
   "id": "e4288f6b-0703-42dc-855b-334cb7806c29",
   "metadata": {},
   "outputs": [
    {
     "data": {
      "text/plain": [
       "56397"
      ]
     },
     "execution_count": 14,
     "metadata": {},
     "output_type": "execute_result"
    }
   ],
   "source": [
    "#Find first number from either direction\n",
    "num_list = []\n",
    "for row in data_list:\n",
    "    start_num = -1\n",
    "    end_num = -1\n",
    "    for pos in range(len(row)):\n",
    "        if row[pos].isnumeric() and start_num < 0:\n",
    "            start_num = int(row[pos])\n",
    "        if row[len(row) - pos - 1].isnumeric() and end_num < 0:\n",
    "            end_num = int(row[len(row) - pos - 1])\n",
    "    num_list.append(start_num * 10 + end_num)\n",
    "sum(num_list)"
   ]
  },
  {
   "cell_type": "code",
   "execution_count": 19,
   "id": "c4b188c8-e903-446f-9383-fb3e3afbd02a",
   "metadata": {},
   "outputs": [],
   "source": [
    "digit_list = ['one','two','three','four','five','six','seven','eight','nine']\n",
    "\n",
    "#Only need to check the first three or the last three to match to correct index\n",
    "prepend_list = []\n",
    "postpend_list = []\n",
    "for elmt in digit_list:\n",
    "    x = elmt[0:3]\n",
    "    prepend_list.append(x)\n",
    "    x = elmt[-3:]\n",
    "    postpend_list.append(x)"
   ]
  },
  {
   "cell_type": "code",
   "execution_count": 78,
   "id": "ea269b1c-9ce5-4388-9311-c876c28344c9",
   "metadata": {},
   "outputs": [
    {
     "data": {
      "text/plain": [
       "55701"
      ]
     },
     "execution_count": 78,
     "metadata": {},
     "output_type": "execute_result"
    }
   ],
   "source": [
    "#Find first number from either direction\n",
    "num_list = []\n",
    "for row in data_list:\n",
    "    start_num = -1\n",
    "    end_num = -1\n",
    "    for pos in range(len(row)):\n",
    "        endpos = len(row) - pos - 1\n",
    "        if start_num < 0:\n",
    "            if row[pos].isnumeric():\n",
    "                start_num = int(row[pos])\n",
    "            if pos < len(row) - 3:\n",
    "                if row[pos:pos+3] in prepend_list:\n",
    "                    idx = prepend_list.index(row[pos:pos+3])\n",
    "                    if row[pos:pos + len(digit_list[idx])] == digit_list[idx]:\n",
    "                        start_num = idx + 1\n",
    "        if end_num < 0:\n",
    "            if row[endpos].isnumeric():\n",
    "                end_num = int(row[endpos])\n",
    "            if endpos > 2:\n",
    "                if row[endpos - 2:endpos + 1] in postpend_list:\n",
    "                    idx = postpend_list.index(row[endpos - 2:endpos + 1])\n",
    "                    if row[endpos - len(digit_list[idx]) + 1:endpos + 1] == digit_list[idx]:\n",
    "                        end_num = idx + 1\n",
    "    num_list.append(start_num * 10 + end_num)\n",
    "sum(num_list)"
   ]
  }
 ],
 "metadata": {
  "kernelspec": {
   "display_name": "Python 3 (ipykernel)",
   "language": "python",
   "name": "python3"
  },
  "language_info": {
   "codemirror_mode": {
    "name": "ipython",
    "version": 3
   },
   "file_extension": ".py",
   "mimetype": "text/x-python",
   "name": "python",
   "nbconvert_exporter": "python",
   "pygments_lexer": "ipython3",
   "version": "3.10.5"
  }
 },
 "nbformat": 4,
 "nbformat_minor": 5
}
