{
 "cells": [
  {
   "cell_type": "code",
   "execution_count": 1,
   "id": "97d5fe79-f2cd-4de3-8fef-2111431c7cde",
   "metadata": {},
   "outputs": [],
   "source": [
    "#file import\n",
    "file_name = 'input.txt'\n",
    "file = open(file_name)\n",
    "data = file.read()\n",
    "file.close()"
   ]
  },
  {
   "cell_type": "code",
   "execution_count": 25,
   "id": "5659b011-529f-491e-b11e-56e5357920c6",
   "metadata": {},
   "outputs": [],
   "source": [
    "#parse input file\n",
    "data_list = data.split(\"\\n\")\n",
    "\n",
    "data_table = []\n",
    "for row in data_list:\n",
    "    x = 0\n",
    "    row_list = []\n",
    "    while x < len(row):\n",
    "        if row[x].isnumeric():\n",
    "            y = x\n",
    "            cont = 1\n",
    "            while cont == 1:\n",
    "                if y < len(row):\n",
    "                    if row[y].isnumeric():\n",
    "                        y = y + 1\n",
    "                    else:\n",
    "                        cont = 0\n",
    "                else:\n",
    "                    cont = 0\n",
    "            num = int(row[x:y])\n",
    "            x = y\n",
    "            row_list.append(num)\n",
    "        else:\n",
    "            x = x + 1\n",
    "    data_table.append(row_list)"
   ]
  },
  {
   "cell_type": "code",
   "execution_count": 27,
   "id": "fcd04e2e-7f50-4a76-84c1-ecf93c0abcd8",
   "metadata": {},
   "outputs": [],
   "source": [
    "win_ct = []\n",
    "for i in range(len(data_table[0])):\n",
    "    nwin = 0\n",
    "    for t in range(data_table[0][i]):\n",
    "        dist = t * data_table[0][i] - t ** 2\n",
    "        if dist > data_table[1][i]:\n",
    "            nwin = nwin + 1\n",
    "    win_ct.append(nwin)"
   ]
  },
  {
   "cell_type": "code",
   "execution_count": 31,
   "id": "febe9a76-f595-4610-af41-fa7841bca771",
   "metadata": {},
   "outputs": [
    {
     "data": {
      "text/plain": [
       "1083852"
      ]
     },
     "execution_count": 31,
     "metadata": {},
     "output_type": "execute_result"
    }
   ],
   "source": [
    "prd = 1\n",
    "for i in range(len(win_ct)):\n",
    "    prd = prd * win_ct[i]\n",
    "prd"
   ]
  },
  {
   "cell_type": "code",
   "execution_count": 35,
   "id": "c927b42f-71da-44fd-b071-d4b70945b50b",
   "metadata": {},
   "outputs": [],
   "source": [
    "time = ''\n",
    "trav = ''\n",
    "for i in range(len(data_table[0])):\n",
    "    time = time + str(data_table[0][i])\n",
    "    trav = trav + str(data_table[1][i])\n",
    "\n",
    "time = int(time)\n",
    "trav = int(trav)\n"
   ]
  },
  {
   "cell_type": "code",
   "execution_count": 36,
   "id": "aff471f8-b7fe-4494-9e53-99fc8ba3661e",
   "metadata": {},
   "outputs": [
    {
     "data": {
      "text/plain": [
       "23501589"
      ]
     },
     "execution_count": 36,
     "metadata": {},
     "output_type": "execute_result"
    }
   ],
   "source": [
    "nwin = 0\n",
    "for t in range(time):\n",
    "    dist = t * time - t ** 2\n",
    "    if dist > trav:\n",
    "        nwin = nwin + 1\n",
    "nwin"
   ]
  },
  {
   "cell_type": "code",
   "execution_count": null,
   "id": "e060c223-123a-4c72-9475-11aff13815ca",
   "metadata": {},
   "outputs": [],
   "source": [
    "#Really don't like the way I solved for the first step; "
   ]
  }
 ],
 "metadata": {
  "kernelspec": {
   "display_name": "Python 3 (ipykernel)",
   "language": "python",
   "name": "python3"
  },
  "language_info": {
   "codemirror_mode": {
    "name": "ipython",
    "version": 3
   },
   "file_extension": ".py",
   "mimetype": "text/x-python",
   "name": "python",
   "nbconvert_exporter": "python",
   "pygments_lexer": "ipython3",
   "version": "3.10.5"
  }
 },
 "nbformat": 4,
 "nbformat_minor": 5
}
