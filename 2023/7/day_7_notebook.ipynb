{
 "cells": [
  {
   "cell_type": "code",
   "execution_count": 1,
   "id": "91dad723-3801-4bd4-9d23-f2eefeabe9cc",
   "metadata": {},
   "outputs": [],
   "source": [
    "#file import\n",
    "file_name = 'input.txt'\n",
    "file = open(file_name)\n",
    "data = file.read()\n",
    "file.close()"
   ]
  },
  {
   "cell_type": "code",
   "execution_count": 146,
   "id": "755c5316-7d5f-47dd-9371-940418463309",
   "metadata": {},
   "outputs": [],
   "source": [
    "#parse input file\n",
    "data_list = data.split(\"\\n\")\n",
    "for i in range(len(data_list)):\n",
    "    data_list[i] = data_list[i].split(\" \")\n",
    "    data_list[i][1] = int(data_list[i][1])"
   ]
  },
  {
   "cell_type": "code",
   "execution_count": 147,
   "id": "d663fc6b-7a38-498d-b48c-0f903c151972",
   "metadata": {},
   "outputs": [
    {
     "data": {
      "text/plain": [
       "248105065"
      ]
     },
     "execution_count": 147,
     "metadata": {},
     "output_type": "execute_result"
    }
   ],
   "source": [
    "#data_list = [['32T3K',765],['T55J5',684],['KK677',28],['KTJJT',220],['QQQJA',483]]\n",
    "score_list = ['1','2','3','4','5','6','7','8','9','T','J','Q','K','A']\n",
    "\n",
    "for i in range(len(data_list)):\n",
    "    score = 0\n",
    "    for x in range(len(score_list)):\n",
    "        ct = 0\n",
    "        for j in range(len(data_list[i][0])):\n",
    "            if score_list[x] == data_list[i][0][j]:\n",
    "                ct = ct + 1\n",
    "        if ct > 0:\n",
    "            score = score + ct * 10 ** ct\n",
    "    score = score * 10 ** (11 * 2)\n",
    "    for j in range(len(data_list[i][0])):\n",
    "        score = score + (score_list.index(data_list[i][0][j])) * 10 ** ((4 - j)*2)\n",
    "    data_list[i].append(score)\n",
    "\n",
    "data_list.sort(key = lambda x: x[2])\n",
    "\n",
    "tot = 0\n",
    "for i in range(len(data_list)):\n",
    "    tot = tot + (i + 1) * data_list[i][1]\n",
    "\n",
    "tot"
   ]
  },
  {
   "cell_type": "code",
   "execution_count": null,
   "id": "98c3f4aa-9c91-4537-a8b8-7913a3eaa3a9",
   "metadata": {},
   "outputs": [],
   "source": [
    "#now need to treat jokers as wild... FML"
   ]
  }
 ],
 "metadata": {
  "kernelspec": {
   "display_name": "Python 3 (ipykernel)",
   "language": "python",
   "name": "python3"
  },
  "language_info": {
   "codemirror_mode": {
    "name": "ipython",
    "version": 3
   },
   "file_extension": ".py",
   "mimetype": "text/x-python",
   "name": "python",
   "nbconvert_exporter": "python",
   "pygments_lexer": "ipython3",
   "version": "3.10.5"
  }
 },
 "nbformat": 4,
 "nbformat_minor": 5
}
