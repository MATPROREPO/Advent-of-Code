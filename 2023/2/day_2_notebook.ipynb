{
 "cells": [
  {
   "cell_type": "code",
   "execution_count": 1,
   "id": "e1a610c5-402f-4174-85df-f19eb75eb5e1",
   "metadata": {},
   "outputs": [],
   "source": [
    "import pandas as pd\n",
    "import numpy as np"
   ]
  },
  {
   "cell_type": "code",
   "execution_count": 2,
   "id": "f93bba1b-6ff7-469f-b9bd-769b1f2596a8",
   "metadata": {},
   "outputs": [],
   "source": [
    "#file import\n",
    "file_name = 'input.txt'\n",
    "file = open(file_name)\n",
    "data = file.read()\n",
    "file.close()"
   ]
  },
  {
   "cell_type": "code",
   "execution_count": 3,
   "id": "aeaf53fb-3190-4267-83fa-30c9a67f8db4",
   "metadata": {},
   "outputs": [],
   "source": [
    "#data into maleable datatype\n",
    "data_list = data.split(\"\\n\")"
   ]
  },
  {
   "cell_type": "code",
   "execution_count": 92,
   "id": "1320372f-5960-4d9b-98b1-307a2a693671",
   "metadata": {},
   "outputs": [],
   "source": [
    "data_features = []\n",
    "colour_list = ['blue','green','red']\n",
    "#Will store everything in a list of lists\n",
    "#[[id,[blue info (max, sum)],[green info (max, sum)],[red info (max, sum)]]]\n",
    "\n",
    "for row in data_list:\n",
    "    game = row + ';'  #Append semi colon so that all draws are thusly demarked\n",
    "    game_id = int(game[len('Game '):game.find(':')])  #Extract  game ID\n",
    "    game = game[game.find(':') + 1:]  #Slice game string to only draws\n",
    "    max_list = [0,0,0]\n",
    "    sum_list = [0,0,0]\n",
    "    prior_draw_index = 0\n",
    "    for i in range(game.count(';')):\n",
    "        current_draw_index = game[prior_draw_index + 1:].find(';') + prior_draw_index\n",
    "        draw = game[prior_draw_index:current_draw_index + 1] #slice game string to a particular set of draws\n",
    "        draw = draw + ',' #Append comma so that all colours are thusly demarked\n",
    "        prior_draw_index = current_draw_index + 2 #rebounding index for next loop\n",
    "        prior_colour_index = 0\n",
    "        #for each colour in the current draw\n",
    "        for i in range(draw.count(',')):\n",
    "            current_colour_index = draw[prior_colour_index + 1:].find(',') + prior_colour_index\n",
    "            colour = draw[prior_colour_index + 1:current_colour_index + 1]\n",
    "            prior_colour_index = current_colour_index + 2\n",
    "            num = int(colour[:colour.find(' ') + 1])\n",
    "            idx = colour_list.index(colour[colour.find(' ') + 1:])\n",
    "            if max_list[idx] < num:\n",
    "                max_list[idx] = num\n",
    "            sum_list[idx] = sum_list[idx] + num\n",
    "    data_features.append([game_id,[max_list[0],sum_list[0]],[max_list[1],sum_list[1]],[max_list[2],sum_list[2]]])\n"
   ]
  },
  {
   "cell_type": "code",
   "execution_count": 98,
   "id": "501ebc18-f63b-4aaf-8e13-a7349173674f",
   "metadata": {},
   "outputs": [
    {
     "data": {
      "text/plain": [
       "2164"
      ]
     },
     "execution_count": 98,
     "metadata": {},
     "output_type": "execute_result"
    }
   ],
   "source": [
    "max_array = [14,13,12]\n",
    "id_sum = 0\n",
    "for row in data_features:\n",
    "    valid_bool = 1\n",
    "    for i in range(3):\n",
    "        if row[i + 1][0] > max_array[i]:\n",
    "            valid_bool = 0\n",
    "    id_sum = id_sum + valid_bool * row[0]\n",
    "id_sum"
   ]
  },
  {
   "cell_type": "code",
   "execution_count": 99,
   "id": "2d719cfd-3a34-45f7-a2fc-4fa7994c456e",
   "metadata": {},
   "outputs": [
    {
     "data": {
      "text/plain": [
       "69929"
      ]
     },
     "execution_count": 99,
     "metadata": {},
     "output_type": "execute_result"
    }
   ],
   "source": [
    "set_power = 0\n",
    "for row in data_features:\n",
    "    set_power = set_power + row[1][0] * row[2][0] * row[3][0]\n",
    "set_power"
   ]
  }
 ],
 "metadata": {
  "kernelspec": {
   "display_name": "Python 3 (ipykernel)",
   "language": "python",
   "name": "python3"
  },
  "language_info": {
   "codemirror_mode": {
    "name": "ipython",
    "version": 3
   },
   "file_extension": ".py",
   "mimetype": "text/x-python",
   "name": "python",
   "nbconvert_exporter": "python",
   "pygments_lexer": "ipython3",
   "version": "3.10.5"
  }
 },
 "nbformat": 4,
 "nbformat_minor": 5
}
