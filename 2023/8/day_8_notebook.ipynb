{
 "cells": [
  {
   "cell_type": "code",
   "execution_count": 76,
   "id": "5141fdd0-a976-4f26-b5a5-950061ee8777",
   "metadata": {},
   "outputs": [],
   "source": [
    "#file import\n",
    "file_name = 'input.txt'\n",
    "file = open(file_name)\n",
    "data = file.read()\n",
    "file.close()"
   ]
  },
  {
   "cell_type": "code",
   "execution_count": 77,
   "id": "2c1bf66b-ed03-4019-af6e-e097a3a3bcdb",
   "metadata": {},
   "outputs": [],
   "source": [
    "#parse input file\n",
    "data_list = data.split(\"\\n\")\n",
    "\n",
    "step_list = []\n",
    "for i in range(len(data_list[0])):\n",
    "    if data_list[0][i] == 'L':\n",
    "        x = 0\n",
    "    else:\n",
    "        x = 1\n",
    "    step_list.append(x)\n",
    "\n",
    "map_list = []\n",
    "instr_list = []\n",
    "for i in range(2,len(data_list)):\n",
    "    loc = data_list[i][0:3]\n",
    "    inst = [data_list[i][7:10],data_list[i][12:15]]\n",
    "    map_list.append(loc)\n",
    "    instr_list.append(inst)"
   ]
  },
  {
   "cell_type": "code",
   "execution_count": 78,
   "id": "afc45c5d-d235-41b9-a537-21f00de81b24",
   "metadata": {},
   "outputs": [
    {
     "data": {
      "text/plain": [
       "16343"
      ]
     },
     "execution_count": 78,
     "metadata": {},
     "output_type": "execute_result"
    }
   ],
   "source": [
    "stp = 0\n",
    "loc = map_list.index('AAA')\n",
    "\n",
    "while map_list[loc] != 'ZZZ':\n",
    "    loc = map_list.index(instr_list[loc][step_list[stp % len(step_list)]])\n",
    "    stp = stp + 1\n",
    "stp"
   ]
  },
  {
   "cell_type": "code",
   "execution_count": 79,
   "id": "4e3bfa31-9e0d-4391-a5cc-1708141eafed",
   "metadata": {},
   "outputs": [],
   "source": [
    "#Construct array of locations\n",
    "#Store initial index, current index, and whether final step is found\n",
    "loc_list = []\n",
    "ct = 0\n",
    "for i in range(len(map_list)):\n",
    "    if map_list[i][2] == 'A':\n",
    "        ct = ct + 1\n",
    "        loc_list.append([i,i])"
   ]
  },
  {
   "cell_type": "code",
   "execution_count": 72,
   "id": "01aaffe1-6447-4bf6-8ce3-407e4d6d26fe",
   "metadata": {},
   "outputs": [],
   "source": [
    "map_list = ['11A','11B','11Z','22A','22B','22C','22Z','XXX']\n",
    "instr_list = [['11B','XXX'],['XXX','11Z'],['11B','XXX'],['22B','XXX'],['22C','22C'],['22Z','22Z'],['22B','22B'],['XXX','XXX']]\n",
    "step_list = [0,1]"
   ]
  },
  {
   "cell_type": "code",
   "execution_count": 80,
   "id": "6c647f8f-f1b7-45ea-bd61-f572b6e03215",
   "metadata": {},
   "outputs": [
    {
     "name": "stdout",
     "output_type": "stream",
     "text": [
      "Unexpected exception formatting exception. Falling back to standard exception\n"
     ]
    },
    {
     "name": "stderr",
     "output_type": "stream",
     "text": [
      "Traceback (most recent call last):\n",
      "  File \"C:\\Users\\prove\\AppData\\Local\\Programs\\Python\\Python310\\lib\\site-packages\\IPython\\core\\interactiveshell.py\", line 3508, in run_code\n",
      "    exec(code_obj, self.user_global_ns, self.user_ns)\n",
      "  File \"C:\\Users\\prove\\AppData\\Local\\Temp\\ipykernel_19796\\1732931203.py\", line -1, in <module>\n",
      "KeyboardInterrupt\n",
      "\n",
      "During handling of the above exception, another exception occurred:\n",
      "\n",
      "Traceback (most recent call last):\n",
      "  File \"C:\\Users\\prove\\AppData\\Local\\Programs\\Python\\Python310\\lib\\site-packages\\IPython\\core\\interactiveshell.py\", line 2105, in showtraceback\n",
      "    stb = self.InteractiveTB.structured_traceback(\n",
      "  File \"C:\\Users\\prove\\AppData\\Local\\Programs\\Python\\Python310\\lib\\site-packages\\IPython\\core\\ultratb.py\", line 1428, in structured_traceback\n",
      "    return FormattedTB.structured_traceback(\n",
      "  File \"C:\\Users\\prove\\AppData\\Local\\Programs\\Python\\Python310\\lib\\site-packages\\IPython\\core\\ultratb.py\", line 1319, in structured_traceback\n",
      "    return VerboseTB.structured_traceback(\n",
      "  File \"C:\\Users\\prove\\AppData\\Local\\Programs\\Python\\Python310\\lib\\site-packages\\IPython\\core\\ultratb.py\", line 1172, in structured_traceback\n",
      "    formatted_exception = self.format_exception_as_a_whole(etype, evalue, etb, number_of_lines_of_context,\n",
      "  File \"C:\\Users\\prove\\AppData\\Local\\Programs\\Python\\Python310\\lib\\site-packages\\IPython\\core\\ultratb.py\", line 1087, in format_exception_as_a_whole\n",
      "    frames.append(self.format_record(record))\n",
      "  File \"C:\\Users\\prove\\AppData\\Local\\Programs\\Python\\Python310\\lib\\site-packages\\IPython\\core\\ultratb.py\", line 969, in format_record\n",
      "    frame_info.lines, Colors, self.has_colors, lvals\n",
      "  File \"C:\\Users\\prove\\AppData\\Local\\Programs\\Python\\Python310\\lib\\site-packages\\IPython\\core\\ultratb.py\", line 792, in lines\n",
      "    return self._sd.lines\n",
      "  File \"C:\\Users\\prove\\AppData\\Local\\Programs\\Python\\Python310\\lib\\site-packages\\stack_data\\utils.py\", line 144, in cached_property_wrapper\n",
      "    value = obj.__dict__[self.func.__name__] = self.func(obj)\n",
      "  File \"C:\\Users\\prove\\AppData\\Local\\Programs\\Python\\Python310\\lib\\site-packages\\stack_data\\core.py\", line 734, in lines\n",
      "    pieces = self.included_pieces\n",
      "  File \"C:\\Users\\prove\\AppData\\Local\\Programs\\Python\\Python310\\lib\\site-packages\\stack_data\\utils.py\", line 144, in cached_property_wrapper\n",
      "    value = obj.__dict__[self.func.__name__] = self.func(obj)\n",
      "  File \"C:\\Users\\prove\\AppData\\Local\\Programs\\Python\\Python310\\lib\\site-packages\\stack_data\\core.py\", line 681, in included_pieces\n",
      "    pos = scope_pieces.index(self.executing_piece)\n",
      "  File \"C:\\Users\\prove\\AppData\\Local\\Programs\\Python\\Python310\\lib\\site-packages\\stack_data\\utils.py\", line 144, in cached_property_wrapper\n",
      "    value = obj.__dict__[self.func.__name__] = self.func(obj)\n",
      "  File \"C:\\Users\\prove\\AppData\\Local\\Programs\\Python\\Python310\\lib\\site-packages\\stack_data\\core.py\", line 660, in executing_piece\n",
      "    return only(\n",
      "  File \"C:\\Users\\prove\\AppData\\Local\\Programs\\Python\\Python310\\lib\\site-packages\\executing\\executing.py\", line 190, in only\n",
      "    raise NotOneValueFound('Expected one value, found 0')\n",
      "executing.executing.NotOneValueFound: Expected one value, found 0\n"
     ]
    }
   ],
   "source": [
    "stp = 0\n",
    "cont = 1\n",
    "\n",
    "while cont == 1:\n",
    "    cont = 0\n",
    "    for i in range(len(loc_list)):\n",
    "        loc_list[i][1] = map_list.index(instr_list[loc_list[i][1]][step_list[stp % len(step_list)]])\n",
    "        if map_list[loc_list[i][1]][2] != 'Z':\n",
    "            cont = 1\n",
    "    stp = stp + 1\n",
    "stp"
   ]
  },
  {
   "cell_type": "code",
   "execution_count": 81,
   "id": "ba903ad1-b443-400e-927b-2a99599a2daa",
   "metadata": {},
   "outputs": [
    {
     "data": {
      "text/plain": [
       "453704141"
      ]
     },
     "execution_count": 81,
     "metadata": {},
     "output_type": "execute_result"
    }
   ],
   "source": [
    "stp"
   ]
  },
  {
   "cell_type": "code",
   "execution_count": null,
   "id": "d9868a58-996b-4211-929a-65e689788d2c",
   "metadata": {},
   "outputs": [],
   "source": []
  }
 ],
 "metadata": {
  "kernelspec": {
   "display_name": "Python 3 (ipykernel)",
   "language": "python",
   "name": "python3"
  },
  "language_info": {
   "codemirror_mode": {
    "name": "ipython",
    "version": 3
   },
   "file_extension": ".py",
   "mimetype": "text/x-python",
   "name": "python",
   "nbconvert_exporter": "python",
   "pygments_lexer": "ipython3",
   "version": "3.10.5"
  }
 },
 "nbformat": 4,
 "nbformat_minor": 5
}
